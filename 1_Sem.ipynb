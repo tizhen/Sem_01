{
 "cells": [
  {
   "cell_type": "markdown",
   "id": "14a8bd6b",
   "metadata": {},
   "source": [
    "##  1.1 Соедините два словаря в один"
   ]
  },
  {
   "cell_type": "code",
   "execution_count": 7,
   "id": "d5a92150",
   "metadata": {},
   "outputs": [],
   "source": [
    "    dict1 = {'One': 1, 'Two': 2, 'Three': 3}\n",
    "dict2 = {'Four': 4, 'Five': 5, 'Six': 6}"
   ]
  },
  {
   "cell_type": "code",
   "execution_count": 8,
   "id": "5fa008de",
   "metadata": {},
   "outputs": [
    {
     "data": {
      "text/plain": [
       "{'One': 1, 'Two': 2, 'Three': 3, 'Four': 4, 'Five': 5, 'Six': 6}"
      ]
     },
     "execution_count": 8,
     "metadata": {},
     "output_type": "execute_result"
    }
   ],
   "source": [
    "dict1.update(dict2)\n",
    "dict1"
   ]
  },
  {
   "cell_type": "markdown",
   "id": "fd47b1b3",
   "metadata": {},
   "source": [
    "## 1.2 Напишите функцию, которая на вход принимает два словаря и возвращает один объединенный словарь\n",
    "```\n",
    "dict1 = {'One': 1, 'Two': 2, 'Three': 3}\n",
    "dict2 = {'Four': 4, 'Five': 5, 'Six': 6}\n",
    "```"
   ]
  },
  {
   "cell_type": "code",
   "execution_count": 19,
   "id": "564b3031",
   "metadata": {},
   "outputs": [
    {
     "data": {
      "text/plain": [
       "{'One': 1, 'Two': 2, 'Three': 3, 'Four': 4, 'Five': 5, 'Six': 6}"
      ]
     },
     "execution_count": 19,
     "metadata": {},
     "output_type": "execute_result"
    }
   ],
   "source": [
    "def mertge_dicts(dict1, dict2):\n",
    "    dict1.update(dict2)\n",
    "    return dict1\n",
    "\n",
    "mertge_dicts(dict1, dict2)"
   ]
  },
  {
   "cell_type": "markdown",
   "id": "f0b884d9",
   "metadata": {},
   "source": [
    "## 2 задача\n",
    "Напишите функцию, которая из двух списков, делает один словарь, где элементы из первого списка - ключи, а элементы из второго списка - значения\n",
    "\n",
    "keys = ['One', 'Two', 'Three']\n",
    "values = [1, 2, 3]\n",
    "Используйте аннотирование типов"
   ]
  },
  {
   "cell_type": "markdown",
   "id": "8bf01f8c",
   "metadata": {},
   "source": [
    "### 2.1 Используя цикл for"
   ]
  },
  {
   "cell_type": "code",
   "execution_count": 22,
   "id": "6a39d143",
   "metadata": {},
   "outputs": [],
   "source": [
    "keys = ['One', 'Two', 'Three']\n",
    "values = [1, 2, 3]"
   ]
  },
  {
   "cell_type": "code",
   "execution_count": 23,
   "id": "38b08a50",
   "metadata": {},
   "outputs": [
    {
     "data": {
      "text/plain": [
       "{'One': 1, 'Two': 2, 'Three': 3}"
      ]
     },
     "execution_count": 23,
     "metadata": {},
     "output_type": "execute_result"
    }
   ],
   "source": [
    "def get_dict(keys: list, values: list) -> dict:\n",
    "    res_dict = {}\n",
    "    for i in range(len(keys)):\n",
    "        res_dict.update({keys[i]: values[i]})\n",
    "    return res_dict\n",
    "\n",
    "get_dict(keys, values)"
   ]
  },
  {
   "cell_type": "markdown",
   "id": "d5126b61",
   "metadata": {},
   "source": [
    "### 2.2 Используя dict comprehensions"
   ]
  },
  {
   "cell_type": "code",
   "execution_count": 24,
   "id": "580a012f",
   "metadata": {},
   "outputs": [
    {
     "data": {
      "text/plain": [
       "{'One': 1, 'Two': 2, 'Three': 3}"
      ]
     },
     "execution_count": 24,
     "metadata": {},
     "output_type": "execute_result"
    }
   ],
   "source": [
    "def get_dict(keys: list, values: list) -> dict:\n",
    "    return {keys[i]: values[i] for i in range(len(keys))}\n",
    "get_dict(keys, values)"
   ]
  },
  {
   "cell_type": "markdown",
   "id": "7db852ac",
   "metadata": {},
   "source": [
    "## 3.1 Напишите функцию с циклом for\n",
    "Функция на вход принимает:\n",
    "\n",
    "- исходный словарь\n",
    "- ключи, которые нужно извлечь (аргумент по умолчанию)\n",
    "На выходе словарь с нужными ключами\n",
    "\n",
    "Используйте аннотирование типов"
   ]
  },
  {
   "cell_type": "code",
   "execution_count": 4,
   "id": "a58f0c83",
   "metadata": {},
   "outputs": [],
   "source": [
    "client_dict = {\n",
    "\"name\": \"John\",\n",
    "\"age\": 25,\n",
    "\"salary\": 5000,\n",
    "\"city\": \"Moscow\"\n",
    "}"
   ]
  },
  {
   "cell_type": "code",
   "execution_count": 5,
   "id": "7cdb9df3",
   "metadata": {},
   "outputs": [],
   "source": [
    "keys = ['name', 'age']"
   ]
  },
  {
   "cell_type": "code",
   "execution_count": 2,
   "id": "6191c20c",
   "metadata": {},
   "outputs": [
    {
     "data": {
      "text/plain": [
       "{'name': 'John', 'age': 25}"
      ]
     },
     "execution_count": 2,
     "metadata": {},
     "output_type": "execute_result"
    }
   ],
   "source": [
    "def get_keys(base_dict: dict, keys: list=['name', 'age']) -> dict:\n",
    "    res = {}\n",
    "    for i in keys:\n",
    "        res.update({i: base_dict[i]})\n",
    "    return res\n",
    "\n",
    "get_keys(client_dict)"
   ]
  },
  {
   "cell_type": "markdown",
   "id": "b817b75e-9983-4f5a-8759-9730e0dc5e6d",
   "metadata": {},
   "source": [
    "## 3.2 Используя dict comprehensions"
   ]
  },
  {
   "cell_type": "code",
   "execution_count": 7,
   "id": "b08a6649-9b0a-4fcc-903c-f5c7e2f240d5",
   "metadata": {},
   "outputs": [
    {
     "data": {
      "text/plain": [
       "{'name': 'John', 'age': 25}"
      ]
     },
     "execution_count": 7,
     "metadata": {},
     "output_type": "execute_result"
    }
   ],
   "source": [
    "new_dict = {i: client_dict[i] for i in keys}\n",
    "new_dict"
   ]
  },
  {
   "cell_type": "markdown",
   "id": "ef4e50d5-5941-4198-8bf0-fb84b1aa1f4b",
   "metadata": {},
   "source": [
    "# 5 задача\n",
    "## 5.1 Найдите картинку в интернете и прикрепите её в ячейку с текстом"
   ]
  },
  {
   "cell_type": "markdown",
   "id": "99beddc1-20bd-456f-adb6-706faca971d6",
   "metadata": {},
   "source": [
    "<img scr='https://cdn.playcaliber.com/site/media/news/2021/06/01/4-%D0%A2%D0%B0%D0%B1%D0%BB%D0%B8%D1%86%D0%B0-%D0%BC%D0%B0%D0%BB%D0%B5%D0%BD%D1%8C%D0%BA%D0%B0%D1%8F-%D0%BF%D0%BE-%D1%80%D0%B5%D0%B6%D0%B8%D0%BC%D0%B0%D0%BC-1280%D1%85853.jpg' width=500>"
   ]
  },
  {
   "cell_type": "markdown",
   "id": "87752bf8-8dc9-4409-8b6a-638de201ca36",
   "metadata": {
    "tags": []
   },
   "source": [
    "<img src= 'https://cdn.playcaliber.com/site/media/news/2021/06/01/4-%D0%A2%D0%B0%D0%B1%D0%BB%D0%B8%D1%86%D0%B0-%D0%BC%D0%B0%D0%BB%D0%B5%D0%BD%D1%8C%D0%BA%D0%B0%D1%8F-%D0%BF%D0%BE-%D1%80%D0%B5%D0%B6%D0%B8%D0%BC%D0%B0%D0%BC-1280%D1%85853.jpg' width=500>"
   ]
  },
  {
   "cell_type": "markdown",
   "id": "d4778092-bb4e-4214-8dc0-954f44732f3d",
   "metadata": {},
   "source": [
    "## 5.2 Создайте следующую таблицу в ячейке с текстом"
   ]
  },
  {
   "cell_type": "markdown",
   "id": "ab5af36e-a613-4cde-9836-49924c90a96b",
   "metadata": {
    "tags": []
   },
   "source": [
    "<table>\n",
    "    <tr>\n",
    "        <td> </td>\n",
    "        <td>До события</td>\n",
    "        <td>Во время события</td>\n",
    "    </tr>\n",
    "    <tr>\n",
    "        <td>1 контрольная точка</td>\n",
    "        <td>250</td>\n",
    "        <td>500</td>\n",
    "    </tr>\n",
    "    <tr>\n",
    "        <td>2 контрольная точка</td>\n",
    "        <td>350</td>\n",
    "        <td>700</td>\n",
    "    </tr>\n",
    "    <tr>\n",
    "        <td>3 контрольная точка</td>\n",
    "        <td>400</td>\n",
    "        <td>800</td>\n",
    "    </tr>\n",
    "    <tr>\n",
    "        <td>Итог за победу</td>\n",
    "        <td>1000</td>\n",
    "        <td>2000</td>\n",
    "    </tr>\n",
    "</table>"
   ]
  },
  {
   "cell_type": "markdown",
   "id": "0ad30b50-0577-4ad1-a218-ed37dc7132c2",
   "metadata": {},
   "source": [
    "## 6 задача\n",
    "Напишите функцию, которая может принимать любое количество трат пользователя и считать сумму и среднее.\n",
    "\n",
    "- На вход поступают целочисленные значения в любом количестве\n",
    "- На выходе словарь с ключами суммы трат и средней траты"
   ]
  },
  {
   "cell_type": "code",
   "execution_count": 2,
   "id": "e9afedb5-7507-49a9-94c2-eb1ed41e670b",
   "metadata": {},
   "outputs": [
    {
     "data": {
      "text/plain": [
       "{'sum': 55, 'avg': 5.5}"
      ]
     },
     "execution_count": 2,
     "metadata": {},
     "output_type": "execute_result"
    }
   ],
   "source": [
    "def calc(*args):\n",
    "    return {\n",
    "        'sum': sum(args),\n",
    "        'avg': sum(args) / len(args)\n",
    "    }\n",
    "calc(1, 2, 3, 4, 5, 6, 7, 8, 9, 10)"
   ]
  },
  {
   "cell_type": "markdown",
   "id": "c957b478-af4c-4d17-ac58-98dce517eb41",
   "metadata": {},
   "source": [
    "# 4 задача\n",
    "## 4.1 Сгенерируйте случайные целые числа от 0 до 100 в количестве 5 штук с помощью модуля random\n",
    "- Зафиксируйте псевдогенерацию, чтобы сгенерированные значения всегда были одинаковые\n",
    "- Используйте list comprehensions"
   ]
  },
  {
   "cell_type": "code",
   "execution_count": 9,
   "id": "841b27a0-887c-4c19-9a68-cf9727bc8abc",
   "metadata": {},
   "outputs": [
    {
     "data": {
      "text/plain": [
       "[29, 47, 48, 16, 24]"
      ]
     },
     "execution_count": 9,
     "metadata": {},
     "output_type": "execute_result"
    }
   ],
   "source": [
    "import random\n",
    "random.seed(8)\n",
    "\n",
    "\n",
    "data = [random.randint(0, 100) for i in range(5)]\n",
    "data"
   ]
  },
  {
   "cell_type": "markdown",
   "id": "20ed66fa-ea73-4300-804f-2242a920dc2f",
   "metadata": {},
   "source": [
    "## 4.2* Напишите генератор\n",
    "- Генератор на вход принимает список с данными о клиенте (данные из пункта 4.1)\n",
    "- Внутри генератора реализуйте обход по списку с данными\n",
    "На каждой итерации генератор будет возвращать кортеж из двух элементов:\n",
    "1. данные по клиенту (в зависимости от итерации, на 0 итерации вернется 0 элемент, на 1 итерации вернется 1 элемент и тд)\n",
    "2. целочисленное значение, которое показывает, сколько секунд прошло с предыдущей итерации\n",
    "Примечание: секунды, которые возвращаются должны показывать время не с начала запуска генератора, а именно то время, которое прошло с предыдущей итерации. А значит время на первой итерации должно равняться 0.\n",
    "-  Используйте функцию time из модуля time для подсчета времени.\n",
    "-  Чтобы проверить работу таймера, запустите проход по генератору в цикле с time.sleep(2)"
   ]
  },
  {
   "cell_type": "code",
   "execution_count": 10,
   "id": "c7c1816f-e46e-4594-9fd8-e9fe1bd23f7c",
   "metadata": {},
   "outputs": [],
   "source": [
    "import time\n",
    " \n",
    "def elapsed_since(data):\n",
    "    last_time = None\n",
    "    \n",
    "    for item in data:\n",
    "        current_time = time.time()\n",
    "        \n",
    "        if last_time:\n",
    "            delta = current_time - last_time\n",
    "        else:\n",
    "            delta = current_time - current_time\n",
    "            \n",
    "        last_time = time.time()\n",
    "        yield (int(delta), item)"
   ]
  },
  {
   "cell_type": "code",
   "execution_count": 11,
   "id": "998e6572-fe10-4105-8029-3995f4838ae2",
   "metadata": {},
   "outputs": [
    {
     "name": "stdout",
     "output_type": "stream",
     "text": [
      "(0, 29)\n",
      "(2, 47)\n",
      "(2, 48)\n",
      "(2, 16)\n",
      "(2, 24)\n"
     ]
    }
   ],
   "source": [
    "for t in elapsed_since(data):\n",
    "    print(t)\n",
    "    time.sleep(2)"
   ]
  },
  {
   "cell_type": "code",
   "execution_count": null,
   "id": "d7a2e1fc-7390-4d8d-bc26-baa0acf9bae6",
   "metadata": {},
   "outputs": [],
   "source": []
  },
  {
   "cell_type": "code",
   "execution_count": null,
   "id": "030465f1-fc27-4635-9464-1844d9f0d427",
   "metadata": {},
   "outputs": [],
   "source": []
  }
 ],
 "metadata": {
  "kernelspec": {
   "display_name": "Python 3 (ipykernel)",
   "language": "python",
   "name": "python3"
  },
  "language_info": {
   "codemirror_mode": {
    "name": "ipython",
    "version": 3
   },
   "file_extension": ".py",
   "mimetype": "text/x-python",
   "name": "python",
   "nbconvert_exporter": "python",
   "pygments_lexer": "ipython3",
   "version": "3.10.9"
  }
 },
 "nbformat": 4,
 "nbformat_minor": 5
}
